{
 "cells": [
  {
   "cell_type": "markdown",
   "metadata": {},
   "source": [
    "# Find Pair with given Sum in the Array\n",
    "\n",
    "Given an unsorted array of integers, find a pair with given sum in it. \n",
    "\n",
    "### For example,\n",
    "\n",
    "**Input:**<br>\n",
    "arr = [8, 7, 2, 5, 3, 1]<br>\n",
    "sum = 10\n",
    "\n",
    "**Output:**<br>\n",
    "Pair found at index 0 and 2 (8 + 2)<br>\n",
    "or<br>\n",
    "Pair found at index 1 and 4 (7 + 3)"
   ]
  },
  {
   "cell_type": "markdown",
   "metadata": {},
   "source": [
    "## 1. Naive Approach\n",
    "\n",
    "Naive solution would be to consider every pair in given array and return if desired sum is found.<br><br>\n",
    "The time complexity of above solution is O(n^2) and auxiliary space used by the program is O(1).\n",
    "\n",
    "## 2 O(n log(n)) solution using Sorting\n",
    "\n",
    "The idea is to sort the given array in ascending order and maintain search space by maintaining two indices (low and high) that initially points to two end-points of the array. Then we loop till low is less than high index and reduce search space arr[low..high] at each iteration of the loop. We compare sum of elements present at index low and high with desired sum and increment low if sum is less than the desired sum else we decrement high is sum is more than the desired sum. Finally, we return if pair found in the array.<br>\n",
    "\n",
    "The time complexity of above solution is O(n log(n)) and auxiliary space used by the program is O(1).\n",
    "\n",
    "## 3 O(n) solution using Hashing\n",
    "\n",
    "We can use map to easily solve this problem in linear time. The idea is to insert each element of the array arr[i]  in a map. We also checks if difference (arr[i], sum-arr[i]) already exists in the map or not. If the difference is seen before, we print the pair and return.<br>\n",
    "\n",
    "The time complexity of above solution is O(n) and auxiliary space used by the program is O(n)."
   ]
  },
  {
   "cell_type": "code",
   "execution_count": 15,
   "metadata": {},
   "outputs": [],
   "source": [
    "def find_pair(integers, sum):\n",
    "    \"Given an unsorted array of integers, find a pair with given sum in it.\"\n",
    "    \n",
    "    # Create an empty dictionary\n",
    "    map = {}\n",
    "    \n",
    "    for integer in integers:\n",
    "        \n",
    "    \n",
    "    length = len(integers)\n",
    "    integers.sort()\n",
    "    \n",
    "    for i in range(length-1):\n",
    "        for j in range(i+1, length):\n",
    "            #print(i, j)\n",
    "            if (integers[i] + integers[j]) == sum:\n",
    "                print('Pair found at index', i, 'and', j, '(', integers[i], '+', integers[j], ')')\n",
    "    \n",
    "    \n",
    "    return sum"
   ]
  },
  {
   "cell_type": "code",
   "execution_count": 16,
   "metadata": {},
   "outputs": [
    {
     "name": "stdout",
     "output_type": "stream",
     "text": [
      "Pair found at index 1 and 5 ( 2 + 8 )\n",
      "Pair found at index 2 and 4 ( 3 + 7 )\n"
     ]
    },
    {
     "data": {
      "text/plain": [
       "10"
      ]
     },
     "execution_count": 16,
     "metadata": {},
     "output_type": "execute_result"
    }
   ],
   "source": [
    "arr = [8, 7, 2, 5, 3, 1]\n",
    "sum = 10\n",
    "\n",
    "find_pair(arr, sum)\n"
   ]
  }
 ],
 "metadata": {
  "kernelspec": {
   "display_name": "Python 3",
   "language": "python",
   "name": "python3"
  },
  "language_info": {
   "codemirror_mode": {
    "name": "ipython",
    "version": 3
   },
   "file_extension": ".py",
   "mimetype": "text/x-python",
   "name": "python",
   "nbconvert_exporter": "python",
   "pygments_lexer": "ipython3",
   "version": "3.6.5"
  }
 },
 "nbformat": 4,
 "nbformat_minor": 2
}
